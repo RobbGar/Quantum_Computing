{
 "cells": [
  {
   "cell_type": "markdown",
   "metadata": {},
   "source": [
    "# Superdense Coding"
   ]
  },
  {
   "cell_type": "markdown",
   "metadata": {},
   "source": [
    "## Indice\n",
    "\n",
    "1) [Cos'è il Superdense Coding?](#what)  \n",
    "2) [Let's Code](#code)"
   ]
  },
  {
   "cell_type": "markdown",
   "metadata": {},
   "source": [
    "## Cos'è il Superdense Coding? <a name='what'> </a>\n",
    "\n",
    "Il Superdense coding è un protocollo quantistico che ci permette di inviare due bit di informazione utilizzando un singolo qubit.  \n",
    "Supponiamo che Alice ($A$) voglia inviare due bit a Bob ($B$). Innanzitutto $A$ e $B$ dovranno condividere uno stato Entangled di Bell \n",
    "$$|\\psi\\rangle = \\frac{1}{\\sqrt{2}}(|0\\rangle_A \\otimes |0\\rangle_B + |1\\rangle_A \\otimes |1\\rangle_B) $$\n",
    "dove il primo qubit (denotato da $_A$) appartiene ad Alice ed il secondo a Bob.\n",
    "Adesso dipendentemente dall'informazione che vuole mandare Alice applica una diversa porta quantistica e poi manda il suo qubit a Bob:\n",
    "\n",
    "- Se $A$ vuole mandare 00 applico $I$ $\\rightarrow$ $B : \\frac{1}{\\sqrt{2}}(|0\\rangle_B \\otimes |0\\rangle_B + |1\\rangle_B \\otimes |1\\rangle_B)$ \n",
    "- Se $A$ vuole mandare 10 applico $Z$ $\\rightarrow$ $B : \\frac{1}{\\sqrt{2}}(|0\\rangle_B \\otimes |0\\rangle_B - |1\\rangle_B \\otimes |1\\rangle_B)$\n",
    "- Se $A$ vuole mandare 01 applico $X$ $\\rightarrow$ $B : \\frac{1}{\\sqrt{2}}(|1\\rangle_B \\otimes |0\\rangle_B + |0\\rangle_B \\otimes |1\\rangle_B)$\n",
    "- Se $A$ vuole mandare 11 applico $XZ$ $\\rightarrow$ $B : \\frac{1}{\\sqrt{2}}(|0\\rangle_B \\otimes |1\\rangle_B - |1\\rangle_B \\otimes |0\\rangle_B)$\n",
    "\n",
    "Tutti questi quattro stati sono stati ortogonali di Bell, ovvero possono essere determinati con una sola misura. Se adesso Bob applica al suo stato una porta $CNOT$ e poi una porta $H$ otterrà l'informazione che Alice voleva inizialmente mandare:   \n",
    "\n",
    "$$\n",
    "\\frac{1}{\\sqrt{2}}(|0\\rangle_B \\otimes |0\\rangle_B + |1\\rangle_B \\otimes |1\\rangle_B) \\xrightarrow{\\text{CNOT}} \\frac{1}{\\sqrt{2}} (|0\\rangle_B + |1\\rangle_B)\\otimes |0\\rangle_B \\xrightarrow{\\text{H}} |00\\rangle_B\n",
    "$$\n",
    "\n",
    "$$\n",
    "\\frac{1}{\\sqrt{2}}(|0\\rangle_B \\otimes |0\\rangle_B - |1\\rangle_B \\otimes |1\\rangle_B) \\xrightarrow{\\text{CNOT}} \\frac{1}{\\sqrt{2}} (|0\\rangle_B - |1\\rangle_B)\\otimes |0\\rangle_B \\xrightarrow{\\text{H}} |10\\rangle_B\n",
    "$$\n",
    "\n",
    "$$\n",
    "\\frac{1}{\\sqrt{2}}(|1\\rangle_B \\otimes |0\\rangle_B + |0\\rangle_B \\otimes |1\\rangle_B) \\xrightarrow{\\text{CNOT}} \\frac{1}{\\sqrt{2}} (|1\\rangle_B + |0\\rangle_B)\\otimes |1\\rangle_B \\xrightarrow{\\text{H}} |01\\rangle_B\n",
    "$$\n",
    "\n",
    "$$\n",
    "\\frac{1}{\\sqrt{2}}(|0\\rangle_B \\otimes |1\\rangle_B - |1\\rangle_B \\otimes |0\\rangle_B) \\xrightarrow{\\text{CNOT}} \\frac{1}{\\sqrt{2}} (|0\\rangle_B - |1\\rangle_B)\\otimes |1\\rangle_B \\xrightarrow{\\text{H}} |11\\rangle_B\n",
    "$$"
   ]
  },
  {
   "cell_type": "markdown",
   "metadata": {},
   "source": [
    "## Let's Code <a name='code'> </a>"
   ]
  },
  {
   "cell_type": "code",
   "execution_count": 1,
   "metadata": {},
   "outputs": [],
   "source": [
    "##Usual imports\n",
    "from qiskit import *\n",
    "\n",
    "#initialization\n",
    "import numpy as np\n",
    "import matplotlib.pyplot as plt\n",
    "%matplotlib inline\n",
    "from qiskit.tools.monitor import job_monitor\n",
    "from qiskit.providers.ibmq import least_busy\n",
    "\n",
    "# import plot tools\n",
    "from qiskit.tools.visualization import plot_histogram"
   ]
  },
  {
   "cell_type": "markdown",
   "metadata": {},
   "source": [
    "Creiamo il circuito coi relativi registri. "
   ]
  },
  {
   "cell_type": "code",
   "execution_count": 2,
   "metadata": {},
   "outputs": [],
   "source": [
    "qr = QuantumRegister(2)\n",
    "cr = ClassicalRegister(2)\n",
    "\n",
    "superdense = QuantumCircuit(qr, cr)"
   ]
  },
  {
   "cell_type": "markdown",
   "metadata": {},
   "source": [
    "Creiamo lo stato Entangled di Bell applicando prima la porta $H$ e poi la porta $CNOT$ usando il primo qubit come guardia."
   ]
  },
  {
   "cell_type": "code",
   "execution_count": 3,
   "metadata": {},
   "outputs": [
    {
     "data": {
      "text/plain": [
       "<qiskit.circuit.instructionset.InstructionSet at 0x2c02f16d8c8>"
      ]
     },
     "execution_count": 3,
     "metadata": {},
     "output_type": "execute_result"
    }
   ],
   "source": [
    "superdense.h(qr[0])\n",
    "superdense.cx(qr[0], qr[1])"
   ]
  },
  {
   "cell_type": "markdown",
   "metadata": {},
   "source": [
    "Adesso Alice deve decidere a seconda dell'informazione da inviare quali porte usare"
   ]
  },
  {
   "cell_type": "code",
   "execution_count": 4,
   "metadata": {},
   "outputs": [
    {
     "name": "stdout",
     "output_type": "stream",
     "text": [
      "Cosa vuoi inviare a Bob (00 o 01 o 10 o 11)\n",
      "01\n"
     ]
    }
   ],
   "source": [
    "print(\"Cosa vuoi inviare a Bob (00 o 01 o 10 o 11)\")\n",
    "while True:\n",
    "    info = input()\n",
    "    if info == '00' or info == '01' or info == '10' or info == '11': break"
   ]
  },
  {
   "cell_type": "code",
   "execution_count": 5,
   "metadata": {},
   "outputs": [
    {
     "data": {
      "text/plain": [
       "<qiskit.circuit.instructionset.InstructionSet at 0x2c02f183f08>"
      ]
     },
     "execution_count": 5,
     "metadata": {},
     "output_type": "execute_result"
    }
   ],
   "source": [
    "superdense.barrier()\n",
    "# For 01, apply $X$\n",
    "if info == '01':\n",
    "    superdense.x(qr[0])\n",
    "# For 10, apply $Z$\n",
    "elif info == '10':\n",
    "    superdense.z(qr[0])\n",
    "# For 11, apply $XZ$\n",
    "elif info == '11':\n",
    "    superdense.z(qr[0]) \n",
    "    superdense.x(qr[0])\n",
    "# For 00, do nothing\n",
    "superdense.barrier()"
   ]
  },
  {
   "cell_type": "markdown",
   "metadata": {},
   "source": [
    "Una volta applicate le porte Alice manda il suo qubit a Bob. Quest'ultimo per decodificare l'informazione applicherà un $CNOT$ e poi una porta $H$. Dopodichè misuriamo il tutto."
   ]
  },
  {
   "cell_type": "code",
   "execution_count": 6,
   "metadata": {},
   "outputs": [
    {
     "data": {
      "text/plain": [
       "<qiskit.circuit.instructionset.InstructionSet at 0x2c02f17b208>"
      ]
     },
     "execution_count": 6,
     "metadata": {},
     "output_type": "execute_result"
    }
   ],
   "source": [
    "superdense.cx(qr[0], qr[1])\n",
    "superdense.h(qr[0])\n",
    "superdense.measure(qr[0], cr[0])\n",
    "superdense.measure(qr[1], cr[1])"
   ]
  },
  {
   "cell_type": "markdown",
   "metadata": {},
   "source": [
    "Disegnamo il circuito per visualizzarlo meglio."
   ]
  },
  {
   "cell_type": "code",
   "execution_count": 7,
   "metadata": {},
   "outputs": [
    {
     "data": {
      "image/png": "[encoded data removed]",
      "text/plain": [
       "<Figure size 648.956x204.68 with 1 Axes>"
      ]
     },
     "execution_count": 7,
     "metadata": {},
     "output_type": "execute_result"
    }
   ],
   "source": [
    "#draw the circuit\n",
    "superdense.draw(output='mpl')"
   ]
  },
  {
   "cell_type": "markdown",
   "metadata": {},
   "source": [
    "Utilizziamo il simulatore per vedere i risultati. Ci basta farlo andare solo con uno shot in quanto è un algoritmo deterministico."
   ]
  },
  {
   "cell_type": "code",
   "execution_count": 8,
   "metadata": {},
   "outputs": [
    {
     "data": {
      "image/png": "[encoded data removed]",
      "text/plain": [
       "<Figure size 504x360 with 1 Axes>"
      ]
     },
     "execution_count": 8,
     "metadata": {},
     "output_type": "execute_result"
    }
   ],
   "source": [
    "backend = BasicAer.get_backend('qasm_simulator')\n",
    "shots = 1\n",
    "results = execute(superdense, backend=backend, shots=shots).result()\n",
    "data = results.get_counts()\n",
    "\n",
    "        \n",
    "plot_histogram(data)"
   ]
  },
  {
   "cell_type": "markdown",
   "metadata": {},
   "source": [
    "## Bibliografia\n",
    "\n",
    "[1] Note del corso di Computazione Quantistica a cura di Paolo Solinas.  \n",
    "[2] M. Nielsen and I. Chuang, Quantum Computation and Quantum Information, Cambridge Series on Information and the Natural Sciences (Cambridge University Press, Cambridge, 2000).  \n",
    "[3] https://qiskit.org/  "
   ]
  },
  {
   "cell_type": "code",
   "execution_count": null,
   "metadata": {},
   "outputs": [],
   "source": []
  }
 ],
 "metadata": {
  "kernelspec": {
   "display_name": "Python 3",
   "language": "python",
   "name": "python3"
  },
  "language_info": {
   "codemirror_mode": {
    "name": "ipython",
    "version": 3
   },
   "file_extension": ".py",
   "mimetype": "text/x-python",
   "name": "python",
   "nbconvert_exporter": "python",
   "pygments_lexer": "ipython3",
   "version": "3.7.4"
  }
 },
 "nbformat": 4,
 "nbformat_minor": 2
}
